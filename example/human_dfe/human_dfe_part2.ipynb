{
 "cells": [
  {
   "cell_type": "markdown",
   "metadata": {},
   "source": [
    "**Table of contents**<a id='toc0_'></a>    \n",
    "- [Inferring human DFE using three commands](#toc1_)    \n",
    "- [Command2: Build a reference spectra cache](#toc2_)    \n",
    "  - [Local example](#toc2_1_)    \n",
    "  - [Submit a hoffman2 job](#toc2_2_)    \n",
    "    - [Log output](#toc2_2_1_)    \n",
    "    - [File output](#toc2_2_2_)    \n",
    "- [Command3: Run DFE inference assuming a gamma distributed DFE](#toc3_)    \n",
    "  - [Local example](#toc3_1_)    \n",
    "    - [Log output](#toc3_1_1_)    \n",
    "    - [File output](#toc3_1_2_)    \n",
    "    - [What is a good enough DFE inference?](#toc3_1_3_)    \n",
    "- [Command3.a: Run DFE inference assuming a different DFE function](#toc4_)    \n",
    "  - [Local example](#toc4_1_)    \n",
    "    - [Output of the lognormal model and compare with the gamma model](#toc4_1_1_)    \n",
    "- [About](#toc5_)    \n",
    "  - [Disclaimer](#toc5_1_)    \n",
    "  - [Citation](#toc5_2_)    \n",
    "\n",
    "<!-- vscode-jupyter-toc-config\n",
    "\tnumbering=false\n",
    "\tanchor=true\n",
    "\tflat=false\n",
    "\tminLevel=1\n",
    "\tmaxLevel=6\n",
    "\t/vscode-jupyter-toc-config -->\n",
    "<!-- THIS CELL WILL BE REPLACED ON TOC UPDATE. DO NOT WRITE YOUR TEXT IN THIS CELL -->"
   ]
  },
  {
   "cell_type": "markdown",
   "metadata": {},
   "source": [
    "# <a id='toc1_'></a>[Inferring human DFE using three commands](#toc0_)\n",
    "\n",
    "**Part2: dfe inference**\n",
    "\n",
    "Date: 2023-03-10 12:38:44\n",
    "\n",
    "Author: Meixi Lin"
   ]
  },
  {
   "cell_type": "markdown",
   "metadata": {},
   "source": [
    "# <a id='toc2_'></a>[Command2: Build a reference spectra cache](#toc0_)\n",
    "\n",
    "The script is [DFE1D_refspectra](../../workflow/DFE/DFE1D_refspectra.py)\n",
    "\n",
    "In this step, we calculate the expected SFS for each selection coefficient possible `s` and this cache will be used to infer the DFE in the final DFE inference step. This step takes longer and more computational resources. But you only need to run it once. \n",
    "\n",
    "**HIGHLY RECOMMEND: Run this in a server**"
   ]
  },
  {
   "cell_type": "markdown",
   "metadata": {},
   "source": [
    "## <a id='toc2_1_'></a>[Local example](#toc0_)"
   ]
  },
  {
   "cell_type": "code",
   "execution_count": 1,
   "metadata": {
    "vscode": {
     "languageId": "shellscript"
    }
   },
   "outputs": [
    {
     "name": "stdout",
     "output_type": "stream",
     "text": [
      "usage: DFE1D_refspectra.py [-h] demog_model demog_params ns outprefix\n",
      "\n",
      "Generate a demographics informed precomputed spectra for each\n",
      "species/population.\n",
      "\n",
      "positional arguments:\n",
      "  demog_model   Demographic model to use.\n",
      "  demog_params  Demographic parameters for demog+sel models. Please provide in\n",
      "                the forms of `nu`,`T`. must be \",\" delimited. Make sure the\n",
      "                values are in the correct orders (e.g.\"1.89,0.29\" for 2Epoch\n",
      "                or \"1.8,1.2,0.32,0.28\" for 3Epoch\n",
      "  ns            Number of samples in the SFS to generate\n",
      "  outprefix     Path/NamePrefix to the output file\n",
      "\n",
      "options:\n",
      "  -h, --help    show this help message and exit\n"
     ]
    }
   ],
   "source": [
    "%%bash\n",
    "WORKSCRIPT='../../workflow/DFE/DFE1D_refspectra.py'\n",
    "python $WORKSCRIPT -h"
   ]
  },
  {
   "cell_type": "markdown",
   "metadata": {},
   "source": [
    "\n",
    "```bash\n",
    "python $WORKSCRIPT \\\n",
    "'two_epoch' '2.332027,0.42853' '100' './output/dfe/refspectra/HS100' \\\n",
    "&> './output/logs/dfe_refspectra_human.log'\n",
    "```"
   ]
  },
  {
   "cell_type": "markdown",
   "metadata": {},
   "source": [
    "## <a id='toc2_2_'></a>[Submit a hoffman2 job](#toc0_)"
   ]
  },
  {
   "cell_type": "markdown",
   "metadata": {},
   "source": [
    "\n",
    "```bash\n",
    "cd /u/project/klohmuel/meixilin/finwhale_DFE/scripts_varDFE/varDFE/example/human_dfe\n",
    "qsub human_dfe_refspectra.sh\n",
    "```"
   ]
  },
  {
   "cell_type": "markdown",
   "metadata": {},
   "source": [
    "### <a id='toc2_2_1_'></a>[Log output](#toc0_)"
   ]
  },
  {
   "cell_type": "markdown",
   "metadata": {},
   "source": [
    "The log generated from the reference spectra contains the following information:\n",
    "\n",
    "1. Input parameter parsed\n",
    "\n",
    "```\n",
    "INFO:[2023-03-10 16:16:22] - Beginning execution of ../../workflow/DFE/DFE1D_refspectra.py in directory /u/project/klohmuel/meixilin/finwhale_DFE/scripts_varDFE/varDFE/example/human_dfe\n",
    "INFO:Parsed the following arguments:\n",
    "\tdemog_model = two_epoch\n",
    "\tdemog_params = 2.332027,0.42853\n",
    "\tns = 100\n",
    "\toutprefix = ./output/dfe/refspectra/HS100\n",
    "```\n",
    "\n",
    "2. The `s` values used for the reference spectra\n",
    "\n",
    "```\n",
    "6: -8709.635899560806\n",
    "62: -2398.83291901949\n",
    "98: -1047.1285480508996\n",
    "127: -537.0317963702527\n",
    "148: -331.1311214825911\n",
    "304: -9.120108393559097\n",
    "...\n",
    "1015: 0.00013803842646028852\n",
    "1049: 0.0003019951720402016\n",
    "1085: 0.0006918309709189362\n",
    "1121: 0.001584893192461114\n",
    "1156: 0.0035481338923357567\n",
    "1190: 0.00776247116628692\n",
    "1224: 0.016982436524617443\n",
    "```\n",
    "\n",
    "3. Summary of the output\n",
    "\n",
    "```\n",
    "INFO:[2023-03-10 16:20:09] - Number of negative gammas: (901,). Number of all gammas: (1602,)\n",
    "INFO:[2023-03-10 16:20:13] - SUCCESS! Spectra saved to ./output/dfe/refspectra/HS100_DFESpectrum.bpkl\n",
    "```\n",
    "\n",
    "By default, both negative and positive `s` are used.\n",
    "\n",
    "Notes:\n",
    "\n",
    "You are going to get warnings for the very negative `s` (very deleterious). \n",
    "It's caused by `dadi.Numerics.make_extrap_func` returning tiny negative values in some SFS entries due to floating point rounding errors.\n",
    "You can manually go in and fill in the negative values but my tests showed that it does not impact the results and can be safely ignored.\n",
    "**HOWEVER**, if you observe `Inf` values in the reference spectra generated, take caution and resolve it before proceeding to DFE inference. \n",
    "For detailed explanation, see [fitdadi_manual](https://github.com/LohmuellerLab/fitdadi/blob/master/manual_examples/manual.pdf) (end of pg.3).\n",
    "\n",
    "```\n",
    "WARNING:Numerics:Extrapolation may have failed. Check resulting frequency spectrum for unexpected results.\n",
    "WARNING:Numerics:Extrapolation may have failed. Check resulting frequency spectrum for unexpected results.\n",
    "WARNING:Numerics:Extrapolation may have failed. Check resulting frequency spectrum for unexpected results.\n",
    "WARNING:Numerics:Extrapolation may have failed. Check resulting frequency spectrum for unexpected results.\n",
    "```\n"
   ]
  },
  {
   "cell_type": "markdown",
   "metadata": {},
   "source": [
    "### <a id='toc2_2_2_'></a>[File output](#toc0_)"
   ]
  },
  {
   "cell_type": "markdown",
   "metadata": {},
   "source": [
    "This step outputs two files\n",
    "\n",
    "```\n",
    ".\n",
    "└── refspectra\n",
    "    ├── HS100_DFESpectrum.bpkl......... the stored reference spectra \n",
    "    ├── HS100_DFESpectrum_QC.pdf....... QC plots showing the SFS under various different `s`\n",
    "```\n",
    "\n",
    "[HS100_DFESpectrum_QC](./output/dfe/refspectra/HS100_DFESpectrum_QC.pdf)"
   ]
  },
  {
   "cell_type": "code",
   "execution_count": 2,
   "metadata": {},
   "outputs": [
    {
     "name": "stdout",
     "output_type": "stream",
     "text": [
      "<function two_epoch at 0x1584957e0>\n",
      "[100]\n"
     ]
    }
   ],
   "source": [
    "# load the pickled file\n",
    "import pickle\n",
    "ref_spectra=pickle.load(open('./output/dfe/refspectra/HS100_DFESpectrum.bpkl','rb'))\n",
    "\n",
    "# some properties of the reference spectra\n",
    "print(ref_spectra.demo_sel_func) # the demographic function used\n",
    "print(ref_spectra.ns) # number of samples (chromosomes)"
   ]
  },
  {
   "cell_type": "code",
   "execution_count": 3,
   "metadata": {},
   "outputs": [
    {
     "name": "stdout",
     "output_type": "stream",
     "text": [
      "-10000.0\n"
     ]
    },
    {
     "data": {
      "text/plain": [
       "array([ 8.36880282e+000,  4.99037949e-003,  5.29502462e-006,\n",
       "        7.42633474e-009,  1.15707606e-011,  1.90280544e-014,\n",
       "        3.22726362e-017,  5.57352818e-020,  9.72626245e-023,\n",
       "        1.70657367e-025,  3.00045670e-028,  5.27313469e-031,\n",
       "        9.24644970e-034,  1.61544911e-036,  2.80891128e-039,\n",
       "        4.85639704e-042,  8.34243104e-045,  1.42296002e-047,\n",
       "        2.40862777e-050,  4.04394765e-053,  6.73134312e-056,\n",
       "        1.11038622e-058,  1.81446399e-061,  2.93600822e-064,\n",
       "        4.70259713e-067,  7.45296739e-070,  1.16834699e-072,\n",
       "        1.81094672e-075,  2.77440430e-078,  4.19953880e-081,\n",
       "        6.27822542e-084,  9.26636401e-087,  1.34974153e-089,\n",
       "        1.93950250e-092,  2.74825086e-095,  3.83861707e-098,\n",
       "        5.28287240e-101,  7.16086469e-104,  9.55614271e-107,\n",
       "        1.25499553e-109,  1.62130056e-112,  2.05951475e-115,\n",
       "        2.57136242e-118,  3.15409189e-121,  3.79937541e-124,\n",
       "        4.49251302e-127,  5.21214217e-130,  5.93063452e-133,\n",
       "        6.61645073e-136,  7.62879565e-139,  5.81152779e-140,\n",
       "       -1.82844415e-139, -1.07527128e-139,  1.55394720e-151,\n",
       "        1.45639044e-154,  1.33445190e-157, -1.77036599e-139,\n",
       "        1.04476787e-163,  8.91757359e-167,  7.42550526e-170,\n",
       "        6.02836036e-173,  4.76865456e-176, -1.00731992e-140,\n",
       "        2.75304077e-182,  2.00642759e-185, -6.05414116e-140,\n",
       "        9.77002476e-192, -4.64315011e-140, -1.18267051e-139,\n",
       "        3.65208186e-196, -1.07172766e-139,  8.27999227e-196,\n",
       "        6.87011068e-140,  1.87172247e-139,  2.93835997e-197,\n",
       "       -6.35882053e-141, -1.40997415e-196, -2.58221050e-140,\n",
       "        6.85184061e-141,  3.80317702e-140,  5.11334244e-140,\n",
       "        8.73962632e-197, -2.97027884e-196, -5.39863673e-140,\n",
       "        9.05844662e-140, -1.18495769e-139,  1.22134561e-197,\n",
       "        1.55280457e-196, -2.19420491e-140,  1.13963764e-197,\n",
       "       -1.25326825e-140,  1.87970023e-197,  4.43651891e-198,\n",
       "        1.27458002e-198,  5.35386170e-199, -6.47113231e-142,\n",
       "        3.01454784e-141, -1.02135188e-141, -1.02075616e-142,\n",
       "        7.50114335e-143, -4.38459126e-144])"
      ]
     },
     "execution_count": 3,
     "metadata": {},
     "output_type": "execute_result"
    }
   ],
   "source": [
    "# note the very small negative SFS values in the very negative selection coefficient\n",
    "print(ref_spectra.gammas[0])\n",
    "ref_spectra.spectra[0] #  (e.g. -1.82844415e-139)"
   ]
  },
  {
   "cell_type": "code",
   "execution_count": 4,
   "metadata": {},
   "outputs": [
    {
     "name": "stdout",
     "output_type": "stream",
     "text": [
      "100.0\n"
     ]
    },
    {
     "data": {
      "text/plain": [
       "array([22.63730294,  2.35556257,  1.18980054,  0.80137769,  0.60729403,\n",
       "        0.49094927,  0.41347678,  0.35821951,  0.31684905,  0.28473858,\n",
       "        0.25911211,  0.23820316,  0.22083418,  0.20619001,  0.19368845,\n",
       "        0.18290266,  0.17351257,  0.16527349,  0.15799518,  0.15152754,\n",
       "        0.14575056,  0.14056714,  0.13589795,  0.13167752,  0.12785136,\n",
       "        0.12437381,  0.12120628,  0.11831602,  0.11567504,  0.11325929,\n",
       "        0.11104804,  0.10902332,  0.10716952,  0.10547304,  0.10392196,\n",
       "        0.10250588,  0.10121566,  0.10004328,  0.0989817 ,  0.09802475,\n",
       "        0.09716703,  0.09640384,  0.09573107,  0.0951452 ,  0.09464321,\n",
       "        0.09422258,  0.09388119,  0.09361737,  0.09342984,  0.09331768,\n",
       "        0.09328035,  0.09331768,  0.09342984,  0.09361737,  0.09388119,\n",
       "        0.09422258,  0.09464321,  0.0951452 ,  0.09573107,  0.09640384,\n",
       "        0.09716703,  0.09802475,  0.0989817 ,  0.10004328,  0.10121566,\n",
       "        0.10250588,  0.10392196,  0.10547304,  0.10716952,  0.10902332,\n",
       "        0.11104804,  0.11325929,  0.11567504,  0.11831602,  0.12120628,\n",
       "        0.12437381,  0.12785136,  0.13167752,  0.13589795,  0.14056714,\n",
       "        0.14575056,  0.15152754,  0.15799518,  0.16527349,  0.17351257,\n",
       "        0.18290266,  0.19368845,  0.20619001,  0.22083418,  0.23820317,\n",
       "        0.25911211,  0.28473855,  0.31684882,  0.35821794,  0.41346597,\n",
       "        0.49087339,  0.60674337,  0.79714586,  1.15346813,  1.9425122 ,\n",
       "        4.05194974])"
      ]
     },
     "execution_count": 4,
     "metadata": {},
     "output_type": "execute_result"
    }
   ],
   "source": [
    "# note the excess of common alleles in the very positive selection coefficient\n",
    "print(ref_spectra.gammas[-1])\n",
    "ref_spectra.spectra[-1] "
   ]
  },
  {
   "cell_type": "markdown",
   "metadata": {},
   "source": [
    "# <a id='toc3_'></a>[Command3: Run DFE inference assuming a gamma distributed DFE](#toc0_)\n",
    "\n",
    "The script is [DFE1D_inferenceFIM](../../workflow/DFE/DFE1D_inferenceFIM.py)"
   ]
  },
  {
   "cell_type": "markdown",
   "metadata": {},
   "source": [
    "## <a id='toc3_1_'></a>[Local example](#toc0_)"
   ]
  },
  {
   "cell_type": "code",
   "execution_count": 5,
   "metadata": {
    "vscode": {
     "languageId": "shellscript"
    }
   },
   "outputs": [
    {
     "name": "stdout",
     "output_type": "stream",
     "text": [
      "usage: DFE1D_inferenceFIM.py [-h] --pop POP --mu MU --Lcds LCDS --NS_S_scaling\n",
      "                             NS_S_SCALING [--Nrun NRUN] [--mask_singleton]\n",
      "                             sfs ref_spectra pdfname theta_syn outdir\n",
      "\n",
      "Run DFE inference from precomputed spectra for each species/population.\n",
      "\n",
      "positional arguments:\n",
      "  sfs                   path to FOLDED NONSYN SFS in dadi format from easysfs\n",
      "                        (mask optional)\n",
      "  ref_spectra           path to reference DFE spectra\n",
      "  pdfname               DFE functional form to use.\n",
      "  theta_syn             Theta of synonymous regions from demographic\n",
      "                        inference.\n",
      "  outdir                path to output directory\n",
      "\n",
      "options:\n",
      "  -h, --help            show this help message and exit\n",
      "  --pop POP             population identifier, e.g. 'HS100'\n",
      "  --mu MU               supply exon mutation rate in mutation/bp/gen\n",
      "  --Lcds LCDS           number of called CDS sites that went into making SFS\n",
      "                        (monomorphic+polymorphic)\n",
      "  --NS_S_scaling NS_S_SCALING\n",
      "                        The scaling factor in Lsyn and Lnonsyn length. Lsyn +\n",
      "                        Lnonsyn(=NS_S_scaling*Lsyn) = Lcds\n",
      "  --Nrun NRUN           Number of iterations e.g. 100 runs\n",
      "  --mask_singleton      mask singleton in the input SFS\n"
     ]
    }
   ],
   "source": [
    "%%bash\n",
    "WORKSCRIPT='../../workflow/DFE/DFE1D_inferenceFIM.py'\n",
    "\n",
    "python $WORKSCRIPT -h\n",
    "\n",
    "python $WORKSCRIPT \\\n",
    "--pop 'HS100' --mu '2.50E-08' --Lcds '19089129' --NS_S_scaling '2.31' --Nrun 5 \\\n",
    "'sfs/MIS-HS100.sfs' './output/dfe/refspectra/HS100_DFESpectrum.bpkl' 'gamma' '4061.641015' './output/dfe/gamma' &> './output/logs/dfe_human_gamma.log'"
   ]
  },
  {
   "cell_type": "markdown",
   "metadata": {},
   "source": [
    "### <a id='toc3_1_1_'></a>[Log output](#toc0_)"
   ]
  },
  {
   "cell_type": "markdown",
   "metadata": {},
   "source": [
    "This script gives (hopefully) all the information you need for DFE inference and comparisons: \n",
    "\n",
    "In the output log, it provides: \n",
    "\n",
    "1. Input parameters parsed: \n",
    "\n",
    "```\n",
    "INFO:[2023-03-10 17:01:36] - Beginning execution of ../../workflow/DFE/DFE1D_inferenceFIM.py in directory /Users/linmeixi/Lab/finwhale_DFE/scripts_varDFE/varDFE/example/human_dfe\n",
    "INFO:Parsed the following arguments:\n",
    "\tpop = HS100\n",
    "\tmu = 2.5e-08\n",
    "\tLcds = 19089129.0\n",
    "\tNS_S_scaling = 2.31\n",
    "\tNrun = 5\n",
    "\tmask_singleton = False\n",
    "\tsfs = sfs/MIS-HS100.sfs\n",
    "\tref_spectra = ./output/dfe/refspectra/HS100_DFESpectrum.bpkl\n",
    "\tpdfname = gamma\n",
    "\ttheta_syn = 4061.641015\n",
    "\toutdir = ./output/dfe/gamma\n",
    "\tLsyn = 5767108.0\n",
    "\tLnonsyn = 13322021.0\n",
    "\ttheta_nonsyn = 9382.39074465\n",
    "\tNanc = 7042.769122756155\n",
    "```\n",
    "\n",
    "2. Each iteration's log-likelihood and parameter values \n",
    "\n",
    "```\n",
    "INFO:[2023-03-10 17:01:36] - Beginning DFE optimization dadi.Inference.optimize_log assuming PDF <function gamma at 0x1140a3f40>. Total runs = 5.\n",
    "\tparams=['shape', 'scale']\n",
    "\tupper_bound = [2.0, 1000000.0]\n",
    "\tlower_bound = [0.001, 0.01]\n",
    "\tinitial_val = [0.2, 4000.0]\n",
    "5       , -2287.85    , array([ 0.0917182  ,  4222.75    ])\n",
    "10      , -2294.93    , array([ 0.0916306  ,  4221.62    ])\n",
    "15      , -2293.71    , array([ 0.0916526  ,  4219.75    ])\n",
    "20      , -2287.7     , array([ 0.0917453  ,  4215.25    ])\n",
    "25      , -17738.8    , array([ 0.562842   ,  0.0763085  ])\n",
    "...\n",
    "145     , -241.872    , array([ 0.188688   ,  1045.17    ])\n",
    "150     , -241.872    , array([ 0.188688   ,  1046.22    ])\n",
    "155     , -241.872    , array([ 0.188688   ,  1045.18    ])\n",
    "160     , -241.872    , array([ 0.188688   ,  1045.17    ])\n",
    "165     , -241.872    , array([ 0.188688   ,  1045.17    ])\n",
    "INFO:[2023-03-10 17:01:49] - Rep00. Output *_unfolded.expSFS, *_folded.expSFS, *.png, *.txt to ./output/dfe/gamma/detail_5runs/HS100_DFE_gamma_run00\n",
    "```\n",
    "\n",
    "3. Top three runs with the best log-likelihoods\n",
    "\n",
    "```\n",
    "INFO:[2023-03-10 17:02:32] - Top 3 runs:\n",
    "  runNum   rundate  Nrun  maxiter    pop                sfs                                     ref_spectra  mask_singleton   ns pdf_func integrate_func                optimize_func            mu        Lcds  NS_S     Lnonsyn    upper_bound lower_bound     initval                              initval_p0  theta_nonsyn    ll_model     ll_data         Nanc     shape        scale  shape_us  scale_us\n",
    "0     02  20230310     5      100  HS100  sfs/MIS-HS100.sfs  ./output/dfe/refspectra/HS100_DFESpectrum.bpkl           False  100    gamma      integrate  dadi.Inference.optimize_log  2.500000e-08  19089129.0  2.31  13322021.0  2.0,1000000.0  0.001,0.01  0.2,4000.0  0.12932708502604104,3045.9212717865457   9382.390745 -241.852408 -183.692993  7042.769123  0.189191  1030.903026  0.189191  0.073189\n",
    "1     03  20230310     5      100  HS100  sfs/MIS-HS100.sfs  ./output/dfe/refspectra/HS100_DFESpectrum.bpkl           False  100    gamma      integrate  dadi.Inference.optimize_log  2.500000e-08  19089129.0  2.31  13322021.0  2.0,1000000.0  0.001,0.01  0.2,4000.0   0.10152128485868697,6842.350108617073   9382.390745 -241.871329 -183.692993  7042.769123  0.188697  1044.854182  0.188697  0.074179\n",
    "2     00  20230310     5      100  HS100  sfs/MIS-HS100.sfs  ./output/dfe/refspectra/HS100_DFESpectrum.bpkl           False  100    gamma      integrate  dadi.Inference.optimize_log  2.500000e-08  19089129.0  2.31  13322021.0  2.0,1000000.0  0.001,0.01  0.2,4000.0   0.24829555894494987,4966.103022862596   9382.390745 -241.871749 -183.692993  7042.769123  0.188688  1045.172032  0.188688  0.074202\n",
    "```\n",
    "\n",
    "In this example, the best run was: `shape = 0.189191, scale = 0.073189`\n",
    "\n",
    "4. Convergence of each replicated runs. \n",
    "\n",
    "```\n",
    "INFO:[2023-03-10 17:02:32] - Convergence of parameters:\n",
    "{'ll_model': 0.0193586167822275, 'shape': 0.0010620159816266369, 'scale': 0.005451104835427154}\n",
    "```\n",
    "\n",
    "Convergence is calculated using `varDFE.Misc.Util.CheckConvergence()` function from the top 20 runs with the best log-likelihood. \n",
    "\n",
    "* `ll_model`'s convergence defined as the differences between the log-likelihood of the best run and the 20th best run. \n",
    "* `params`'s convergence defined as the coefficient of variation in the 20 best runs. \n",
    "\n",
    "5. Fisher's Information Matrix (FIM) based standard deviation estimates. \n",
    "\n",
    "```\n",
    "INFO:[2023-03-10 17:02:34] - Best params STDEV = [4.71814774e-03 1.23428219e+02]\n",
    "```\n"
   ]
  },
  {
   "cell_type": "markdown",
   "metadata": {},
   "source": [
    "### <a id='toc3_1_2_'></a>[File output](#toc0_)"
   ]
  },
  {
   "cell_type": "markdown",
   "metadata": {},
   "source": [
    "In the output folders, the files are organized as following: \n",
    "\n",
    "```\n",
    "gamma/\n",
    "├── HS100_DFE_gamma_PDF.pdf\n",
    "├── HS100_DFE_gamma_SFS.pdf\n",
    "├── HS100_DFE_gamma_summary.txt\n",
    "├── bestrun\n",
    "│   ├── HS100_DFE_gamma_run02.SD.txt\n",
    "│   ├── HS100_DFE_gamma_run02.info.txt\n",
    "│   ├── HS100_DFE_gamma_run02.png\n",
    "│   ├── HS100_DFE_gamma_run02.txt\n",
    "│   ├── HS100_DFE_gamma_run02_folded.expSFS\n",
    "│   └── HS100_DFE_gamma_run02_unfolded.expSFS\n",
    "└── detail_5runs\n",
    "```\n",
    "\n",
    "* `HS100_DFE_gamma_SFS.pdf`: The SFS fit for the best model\n",
    "* `HS100_DFE_gamma_PDF.pdf`: The probability density function (PDF) for the best model\n",
    "* `HS100_DFE_gamma_summary.txt`: Tabulated data for all the runs\n",
    "* `bestrun/`: the folder with all the information for the best run\n",
    "    * `HS100_DFE_gamma_run02.info.txt`: Tabulated data for the best run with uncertainty estimate appended (FIM + convergence). \n",
    "    * `HS100_DFE_gamma_run02.png`: `dadi`'s original plot. diagonostic for looking at the residuals. \n",
    "    * `HS100_DFE_gamma_run02_folded.expSFS`: folded expected SFS from this run. \n",
    " "
   ]
  },
  {
   "cell_type": "markdown",
   "metadata": {},
   "source": [
    "### <a id='toc3_1_3_'></a>[What is a good enough DFE inference?](#toc0_)"
   ]
  },
  {
   "cell_type": "markdown",
   "metadata": {},
   "source": [
    "\n",
    "Disclaimer: this is based on personal experiences. \n",
    "\n",
    "1. Check the convergence of the model. "
   ]
  },
  {
   "cell_type": "code",
   "execution_count": 6,
   "metadata": {},
   "outputs": [],
   "source": [
    "import pandas as pd\n",
    "import os\n",
    "files = os.listdir('./output/dfe/gamma/bestrun/')\n",
    "resfile = [ii for ii in files if '.info.txt' in ii][0]\n",
    "resdt = pd.read_csv('./output/dfe/gamma/bestrun/'+resfile, sep = '\\t')"
   ]
  },
  {
   "cell_type": "markdown",
   "metadata": {},
   "source": [
    "\n",
    "2. Check if SD estimation is available and not very large. "
   ]
  },
  {
   "cell_type": "code",
   "execution_count": 7,
   "metadata": {},
   "outputs": [
    {
     "data": {
      "text/html": [
       "<div>\n",
       "<style scoped>\n",
       "    .dataframe tbody tr th:only-of-type {\n",
       "        vertical-align: middle;\n",
       "    }\n",
       "\n",
       "    .dataframe tbody tr th {\n",
       "        vertical-align: top;\n",
       "    }\n",
       "\n",
       "    .dataframe thead th {\n",
       "        text-align: right;\n",
       "    }\n",
       "</style>\n",
       "<table border=\"1\" class=\"dataframe\">\n",
       "  <thead>\n",
       "    <tr style=\"text-align: right;\">\n",
       "      <th></th>\n",
       "      <th>shape_sd</th>\n",
       "      <th>scale_sd</th>\n",
       "    </tr>\n",
       "  </thead>\n",
       "  <tbody>\n",
       "    <tr>\n",
       "      <th>0</th>\n",
       "      <td>0.004718</td>\n",
       "      <td>123.428219</td>\n",
       "    </tr>\n",
       "  </tbody>\n",
       "</table>\n",
       "</div>"
      ],
      "text/plain": [
       "   shape_sd    scale_sd\n",
       "0  0.004718  123.428219"
      ]
     },
     "execution_count": 7,
     "metadata": {},
     "output_type": "execute_result"
    }
   ],
   "source": [
    "resdt.loc[:, resdt.columns.str.endswith('_sd')]"
   ]
  },
  {
   "cell_type": "markdown",
   "metadata": {},
   "source": [
    "\n",
    "3. Visually check the plot of model-data SFS. \n",
    "    * dadi output\n",
    "\n",
    "    ![dadi_modelfit](output/dfe/gamma/bestrun/HS100_DFE_gamma_run02.png)\n",
    "    \n",
    "    * sometimes barplots are more helpful\n",
    "    [varDFE_barplot](output/dfe/gamma/HS100_DFE_gamma_SFS.pdf)"
   ]
  },
  {
   "cell_type": "markdown",
   "metadata": {},
   "source": [
    "The DFE inference is reasonable. "
   ]
  },
  {
   "cell_type": "markdown",
   "metadata": {},
   "source": [
    "# <a id='toc4_'></a>[Command3.a: Run DFE inference assuming a different DFE function](#toc0_)\n",
    "\n",
    "Currently, this pipeline supports the following DFE functions: \n",
    "\n",
    "1. gamma: Gamma distribution\n",
    "2. neugamma: Gamma distribution + neutral point mass \n",
    "3. gammalet: Gamma distribution + lethal mutations\n",
    "4. neugammalet: Gamma distribution + neutral point mass + lethal mutations\n",
    "5. lognormal: Log-normal distribution\n",
    "6. lourenco_eq: Fisher's Geometric Model based distribution (derived in Lourenço et al. 2011)\n",
    "\n",
    "\n",
    "Here we try to run the lognormal distribution too."
   ]
  },
  {
   "cell_type": "markdown",
   "metadata": {},
   "source": [
    "## <a id='toc4_1_'></a>[Local example](#toc0_)"
   ]
  },
  {
   "cell_type": "code",
   "execution_count": 8,
   "metadata": {},
   "outputs": [],
   "source": [
    "%%bash\n",
    "WORKSCRIPT='../../workflow/DFE/DFE1D_inferenceFIM.py'\n",
    "\n",
    "# here we only need to change gamma to lognormal and everything else are taken care of\n",
    "python $WORKSCRIPT \\\n",
    "--pop 'HS100' --mu '2.50E-08' --Lcds '19089129' --NS_S_scaling '2.31' --Nrun 5 \\\n",
    "'sfs/MIS-HS100.sfs' './output/dfe/refspectra/HS100_DFESpectrum.bpkl' 'lognormal' '4061.641015' './output/dfe/lognormal' &> './output/logs/dfe_human_lognormal.log'"
   ]
  },
  {
   "cell_type": "markdown",
   "metadata": {},
   "source": [
    "### <a id='toc4_1_1_'></a>[Output of the lognormal model and compare with the gamma model](#toc0_)"
   ]
  },
  {
   "cell_type": "code",
   "execution_count": 9,
   "metadata": {},
   "outputs": [],
   "source": [
    "files = os.listdir('./output/dfe/lognormal/bestrun/')\n",
    "resfilel = [ii for ii in files if '.info.txt' in ii][0]\n",
    "resdtl = pd.read_csv('./output/dfe/lognormal/bestrun/'+resfilel, sep = '\\t')"
   ]
  },
  {
   "cell_type": "code",
   "execution_count": 10,
   "metadata": {},
   "outputs": [
    {
     "data": {
      "text/html": [
       "<div>\n",
       "<style scoped>\n",
       "    .dataframe tbody tr th:only-of-type {\n",
       "        vertical-align: middle;\n",
       "    }\n",
       "\n",
       "    .dataframe tbody tr th {\n",
       "        vertical-align: top;\n",
       "    }\n",
       "\n",
       "    .dataframe thead th {\n",
       "        text-align: right;\n",
       "    }\n",
       "</style>\n",
       "<table border=\"1\" class=\"dataframe\">\n",
       "  <thead>\n",
       "    <tr style=\"text-align: right;\">\n",
       "      <th></th>\n",
       "      <th>pdf_func</th>\n",
       "      <th>ll_model</th>\n",
       "      <th>ll_data</th>\n",
       "      <th>shape</th>\n",
       "      <th>scale</th>\n",
       "      <th>shape_sd</th>\n",
       "      <th>scale_sd</th>\n",
       "    </tr>\n",
       "  </thead>\n",
       "  <tbody>\n",
       "    <tr>\n",
       "      <th>0</th>\n",
       "      <td>gamma</td>\n",
       "      <td>-241.852408</td>\n",
       "      <td>-183.692993</td>\n",
       "      <td>0.189191</td>\n",
       "      <td>1030.903026</td>\n",
       "      <td>0.004718</td>\n",
       "      <td>123.428219</td>\n",
       "    </tr>\n",
       "  </tbody>\n",
       "</table>\n",
       "</div>"
      ],
      "text/plain": [
       "  pdf_func    ll_model     ll_data     shape        scale  shape_sd  \\\n",
       "0    gamma -241.852408 -183.692993  0.189191  1030.903026  0.004718   \n",
       "\n",
       "     scale_sd  \n",
       "0  123.428219  "
      ]
     },
     "execution_count": 10,
     "metadata": {},
     "output_type": "execute_result"
    }
   ],
   "source": [
    "# gamma distribution\n",
    "resdt[['pdf_func','ll_model', 'll_data', 'shape', 'scale', 'shape_sd', 'scale_sd']]"
   ]
  },
  {
   "cell_type": "code",
   "execution_count": 11,
   "metadata": {},
   "outputs": [
    {
     "data": {
      "text/html": [
       "<div>\n",
       "<style scoped>\n",
       "    .dataframe tbody tr th:only-of-type {\n",
       "        vertical-align: middle;\n",
       "    }\n",
       "\n",
       "    .dataframe tbody tr th {\n",
       "        vertical-align: top;\n",
       "    }\n",
       "\n",
       "    .dataframe thead th {\n",
       "        text-align: right;\n",
       "    }\n",
       "</style>\n",
       "<table border=\"1\" class=\"dataframe\">\n",
       "  <thead>\n",
       "    <tr style=\"text-align: right;\">\n",
       "      <th></th>\n",
       "      <th>pdf_func</th>\n",
       "      <th>ll_model</th>\n",
       "      <th>ll_data</th>\n",
       "      <th>mus</th>\n",
       "      <th>sigma</th>\n",
       "      <th>mus_sd</th>\n",
       "      <th>sigma_sd</th>\n",
       "    </tr>\n",
       "  </thead>\n",
       "  <tbody>\n",
       "    <tr>\n",
       "      <th>0</th>\n",
       "      <td>lognormal</td>\n",
       "      <td>-273.925776</td>\n",
       "      <td>-183.692993</td>\n",
       "      <td>2.694213</td>\n",
       "      <td>4.857347</td>\n",
       "      <td>0.042779</td>\n",
       "      <td>0.124465</td>\n",
       "    </tr>\n",
       "  </tbody>\n",
       "</table>\n",
       "</div>"
      ],
      "text/plain": [
       "    pdf_func    ll_model     ll_data       mus     sigma    mus_sd  sigma_sd\n",
       "0  lognormal -273.925776 -183.692993  2.694213  4.857347  0.042779  0.124465"
      ]
     },
     "execution_count": 11,
     "metadata": {},
     "output_type": "execute_result"
    }
   ],
   "source": [
    "# lognormal distribution\n",
    "resdtl[['pdf_func','ll_model', 'll_data', 'mus', 'sigma', 'mus_sd', 'sigma_sd']]"
   ]
  },
  {
   "cell_type": "markdown",
   "metadata": {},
   "source": [
    "Both `lognormal` and `gamma` distribution had reasonably good fit but the gamma distribution performed better with a higher log-likelihood. "
   ]
  },
  {
   "cell_type": "markdown",
   "metadata": {},
   "source": [
    "# <a id='toc5_'></a>[About](#toc0_)\n",
    "\n",
    "## <a id='toc5_1_'></a>[Disclaimer](#toc0_)\n",
    "\n",
    "`varDFE` and this tutorial are provided \"as is\" without any warranties or representations of any kind, express or implied. I make no guarantees or warranties regarding the accuracy, reliability, completeness, suitability, or timeliness of the software.\n",
    "\n",
    "## <a id='toc5_2_'></a>[Citation](#toc0_)\n",
    "\n",
    "Remember to cite the `dadi` package and `fitdadi` this package is based on as well. \n",
    "\n",
    "```\n",
    "RN Gutenkunst, RD Hernandez, SH Williamson, CD Bustamante \"Inferring the joint demographic history of multiple populations from multidimensional SNP data\" PLoS Genetics 5:e1000695 (2009).\n",
    "\n",
    "BY Kim, CD Huber, KE Lohmueller \"Inference of the Distribution of Selection Coefficients for New Nonsynonymous Mutations Using Large Samples\" Genetics 206:345 (2017).\n",
    "```\n",
    "\n"
   ]
  }
 ],
 "metadata": {
  "kernelspec": {
   "display_name": "Python 3 (ipykernel)",
   "language": "python",
   "name": "python3"
  },
  "language_info": {
   "codemirror_mode": {
    "name": "ipython",
    "version": 3
   },
   "file_extension": ".py",
   "mimetype": "text/x-python",
   "name": "python",
   "nbconvert_exporter": "python",
   "pygments_lexer": "ipython3",
   "version": "3.10.2"
  }
 },
 "nbformat": 4,
 "nbformat_minor": 2
}
